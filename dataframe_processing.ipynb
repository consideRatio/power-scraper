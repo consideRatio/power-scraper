{
 "cells": [
  {
   "cell_type": "code",
   "execution_count": 6,
   "metadata": {},
   "outputs": [],
   "source": [
    "import os\n",
    "import pickle\n",
    "\n",
    "import pandas as pd\n",
    "\n",
    "bucket_name = \"gs://entsoe/\"\n",
    "dataframe_files_dir = \"dataframe_files/\"\n",
    "excel_files_dir = \"excel_files/\""
   ]
  },
  {
   "cell_type": "code",
   "execution_count": 7,
   "metadata": {},
   "outputs": [],
   "source": [
    "def load_dataframe_from_file(dataframe_file_path):\n",
    "    \"\"\"\n",
    "    Accept local dataframes only.\n",
    "    \"\"\"\n",
    "    if dataframe_file_path.startswith(bucket_name):\n",
    "        dataframe_file_path = dataframe_file_path.replace(bucket_name, \"\")\n",
    "    excel_file_name = os.path.basename(dataframe_file_path).replace(\".pickle\", \".xlsx\")\n",
    "    excel_file_path = os.path.join(excel_files_dir, excel_file_name)\n",
    "       \n",
    "    with open(dataframe_file_path, 'rb') as f:\n",
    "        df = pickle.load(f)\n",
    "    \n",
    "    return df"
   ]
  },
  {
   "cell_type": "code",
   "execution_count": 20,
   "metadata": {},
   "outputs": [],
   "source": [
    "df = load_dataframe_from_file(dataframe_files_dir + \"se.pickle\")\n",
    "df_weekly = df.resample('W').sum()"
   ]
  },
  {
   "cell_type": "code",
   "execution_count": 21,
   "metadata": {},
   "outputs": [],
   "source": [
    "with pd.ExcelWriter(\"se-weekly.xlsx\") as excel_writer:\n",
    "    df_weekly.tz_convert(tz=None).to_excel(excel_writer)"
   ]
  },
  {
   "cell_type": "code",
   "execution_count": 23,
   "metadata": {},
   "outputs": [
    {
     "name": "stdout",
     "output_type": "stream",
     "text": [
      "Copying file://se-weekly.xlsx [Content-Type=application/vnd.openxmlformats-officedocument.spreadsheetml.sheet]...\n",
      "/ [1 files][ 80.4 KiB/ 80.4 KiB]                                                \n",
      "Operation completed over 1 objects/80.4 KiB.                                     \n",
      "Copying file://pl-weekly.xlsx [Content-Type=application/vnd.openxmlformats-officedocument.spreadsheetml.sheet]...\n",
      "/ [1 files][185.6 KiB/185.6 KiB]                                                \n",
      "Operation completed over 1 objects/185.6 KiB.                                    \n"
     ]
    }
   ],
   "source": [
    "!gsutil cp se-weekly.xlsx gs://entsoe/se-weekly.xlsx\n",
    "!gsutil cp pl-weekly.xlsx gs://entsoe/pl-weekly.xlsx"
   ]
  },
  {
   "cell_type": "code",
   "execution_count": null,
   "metadata": {},
   "outputs": [],
   "source": []
  }
 ],
 "metadata": {
  "kernelspec": {
   "display_name": "Python 3",
   "language": "python",
   "name": "python3"
  },
  "language_info": {
   "codemirror_mode": {
    "name": "ipython",
    "version": 3
   },
   "file_extension": ".py",
   "mimetype": "text/x-python",
   "name": "python",
   "nbconvert_exporter": "python",
   "pygments_lexer": "ipython3",
   "version": "3.7.3"
  }
 },
 "nbformat": 4,
 "nbformat_minor": 4
}
