{
 "cells": [
  {
   "cell_type": "markdown",
   "metadata": {},
   "source": [
    "# Power scraper\n",
    "The power scraper's goal is to scrape hourly power production averages from [ENTSO-E](https://en.wikipedia.org/wiki/European_Network_of_Transmission_System_Operators_for_Electricity)'s [API](https://transparency.entsoe.eu/content/static_content/Static%20content/web%20api/Guide.html), and put it into a pandas dataframe for smoother analysis going onwards."
   ]
  },
  {
   "cell_type": "markdown",
   "metadata": {},
   "source": [
    "From [this PDF (page 13/16)](https://transparency.entsoe.eu/content/static_content/download?path=/Static%20content/web%20api/RestfulAPI_IG.pdf) I've learned that we are looking to scrape a _Document Type_ named _A73_ and described as _Actual generation output per generation unit_. This document type is also coupled with a _Process Type_ named _A16_ and described as _Realised_ that I believe reference that it relates to actual generation as compared to for example forcasted generation."
   ]
  },
  {
   "cell_type": "markdown",
   "metadata": {},
   "source": [
    "### References\n",
    "- [Transparency platform - Actual Generation Per Generation Unit](https://transparency.entsoe.eu/generation/r2/actualGenerationPerGenerationUnit/show)\n",
    "- [Electrical domains documented](https://www.entsoe.eu/fileadmin/user_upload/edi/library/downloads/Market_Areas_v2.0.pdf)\n",
    "- [ENTSO-E API implementation guide](https://transparency.entsoe.eu/content/static_content/download?path=/Static%20content/web%20api/RestfulAPI_IG.pdf)\n",
    "- [ENTSO-E API web guide](https://transparency.entsoe.eu/content/static_content/Static%20content/web%20api/Guide.html)\n",
    "- [EnergieID/entsoe-py](https://github.com/EnergieID/entsoe-py): A python client for working against the ENTSO-E API\n",
    "- [ElectricityMap's use of ENTSO-E's API](https://github.com/tmrowco/electricitymap-contrib/blob/master/parsers/ENTSOE.py)"
   ]
  },
  {
   "cell_type": "markdown",
   "metadata": {},
   "source": [
    "### Setup to run scraper\n",
    "In order for you to be able to use this code, you need an API Token for accessing the ENTSO-E API. For instructions on how to get one, see [their documentation about it](https://transparency.entsoe.eu/content/static_content/Static%20content/web%20api/Guide.html#_authentication_and_authorisation).\n",
    "\n",
    "This is what you need to do summarized:\n",
    "\n",
    "1. Create an account on the [Transparency Platform (TP)](https://transparency.entsoe.eu/).\n",
    "2. Send an email to transparency@entsoe.eu with `Restful API access` in the subject line. Indicate the email address you entered during registration in the email body.\n",
    "3. Await a response and inspect [your account settings](https://transparency.entsoe.eu/usrm/user/myAccountSettings) where a _Web Api Security Token_ should now be available.\n",
    "4. Write your API_TOKEN to the `.env` file or set manually update your environment variable `API_TOKEN` for use by the scripts below. The file should contain one line of text formatted like this:\n",
    "\n",
    "   ```\n",
    "   API_TOKEN=your-api-token-here\n",
    "   ```"
   ]
  },
  {
   "cell_type": "code",
   "execution_count": null,
   "metadata": {},
   "outputs": [],
   "source": [
    "# Load's API_TOKEN from the .env file which is .gitignore'd\n",
    "from dotenv import load_dotenv\n",
    "load_dotenv()"
   ]
  },
  {
   "cell_type": "markdown",
   "metadata": {},
   "source": [
    "## Code strategy\n",
    "We rely heavily on the `EntsoePandasClient` of the `entsoe` Python library, and its [query_generation_per_plant function](https://github.com/EnergieID/entsoe-py/blob/e620357ad6ea0ddd217d4cff61eed18e8461f584/entsoe/entsoe.py#L905). Iterating over it for each country, and using a time interval from the beginning of the API's creation, to now.\n",
    "\n",
    "Caching web requests, saving completed country downloads, and progressbars is the glue that takes us all the way.\n",
    "\n",
    "### About web request caching\n",
    "We should avoid making web request to the API in order to avoid paing a cost of time and potentially getting rate limited or banned. To do this we can try to cache as much requests we make as possible, as the data isn't supposed to change anyhow.\n",
    "\n",
    "Consider us using the `query_generation_per_plant` function and passing a timespan of a week. I've learned it will make seven requests to the ENTSO-E API, one per day, because it is simply a restriction on their API. If we now specify overlapping days in a later request, these days will be cached and we will only probe the actual API with those that had not already been requested. All of this is done by us importing [requests-cache](https://github.com/reclosedev/requests-cache) and saying we want to use it."
   ]
  },
  {
   "cell_type": "code",
   "execution_count": 2,
   "metadata": {},
   "outputs": [],
   "source": [
    "# use a cache so we don't ask the same thing twice\n",
    "# this is what is stored in the entso-e.sqlite database file\n",
    "import requests_cache"
   ]
  },
  {
   "cell_type": "markdown",
   "metadata": {},
   "source": [
    "### Progress bars for sanity\n",
    "When working with long running jobs, having a progress bar is very useful. The tqdm library provides such functionality."
   ]
  },
  {
   "cell_type": "code",
   "execution_count": 3,
   "metadata": {},
   "outputs": [],
   "source": [
    "# progress bars beauty\n",
    "# https://github.com/tqdm/tqdm#ipythonjupyter-integration\n",
    "from tqdm.auto import tqdm"
   ]
  },
  {
   "cell_type": "markdown",
   "metadata": {},
   "source": [
    "### Modifications to entsoe library\n",
    "I made some modification to not abort scraping if a exception about no available data was thrown for an individual day. This changes are part of a fork on https://github.com/consideRatio/entsoe-py."
   ]
  },
  {
   "cell_type": "markdown",
   "metadata": {},
   "source": [
    "### Code improvements\n",
    "- Upload to google cloud storage and stop working with local dataset files\n",
    "- Try fixing names with åäö etc\n",
    "- Convert dataframes to excel files\n",
    "- Find out about the DOMAIN_MAPPING issues\n"
   ]
  },
  {
   "cell_type": "markdown",
   "metadata": {},
   "source": [
    "## Scraping time estimates\n",
    "It took 130 seconds to get data about Sweden for a month, or about five seconds per day. The dates to investigate range from 2015-01-05 onwards, which is about five years, which is about 60 months. 60 months * 130 seconds / month = 130 minutes for one country. With 42 different country entries we can choose from in the `entsoe.mappings.DOMAIN_MAPPINGS`, we have something that needs to run for about 130 minutes * 42 ~= 3.8 days."
   ]
  },
  {
   "cell_type": "markdown",
   "metadata": {},
   "source": [
    "# Scraper"
   ]
  },
  {
   "cell_type": "code",
   "execution_count": 4,
   "metadata": {},
   "outputs": [],
   "source": [
    "from entsoe import EntsoePandasClient\n",
    "import entsoe.misc\n",
    "\n",
    "# To help us not clutter the output of the cell\n",
    "from IPython.utils import io\n",
    "\n",
    "import os\n",
    "import pandas as pd"
   ]
  },
  {
   "cell_type": "code",
   "execution_count": 5,
   "metadata": {},
   "outputs": [],
   "source": [
    "def scrape_control_area_data(country_code, cta, start, end):\n",
    "    \"\"\"\n",
    "    Scrapes pandas dataframes containing the specified country's\n",
    "    production units and how much energy they produced that hour\n",
    "    with a hourly resolution, for all the country's control areas\n",
    "    (CTAs).\n",
    "    \"\"\"\n",
    "    # Return previously downloaded dataframes\n",
    "    dataframe_file = f\"dataframes/{cta['abbrev'].lower()}.pickle\"\n",
    "    if os.path.isfile(dataframe_file):\n",
    "        tqdm(desc=country_code, total=0, bar_format=\"Already downloaded\");\n",
    "        return pd.read_pickle(dataframe_file)\n",
    "    \n",
    "    # Use a cache for this country\n",
    "    cache_file = f\"caches/{country_code.lower()}\"\n",
    "    requests_cache.install_cache(cache_file)\n",
    "    \n",
    "    # This will do the heavy lifting\n",
    "    client = EntsoePandasClient(\n",
    "        api_key=os.environ[\"API_TOKEN\"],\n",
    "        session=None,\n",
    "        retry_count=3,\n",
    "        retry_delay=0,\n",
    "        proxies=None,\n",
    "    )\n",
    "    \n",
    "    # Create monthly blocks so we can have a nice progressbar the\n",
    "    # increments with each month. The requests will still be made\n",
    "    # on a daily basis by the entsoe library, as required by the\n",
    "    # ENTSO-E API.\n",
    "    month_intervals = list(entsoe.misc.month_blocks(start, end))\n",
    "    \n",
    "    # Start scraping using the entsoe library acting as a helper\n",
    "    # python API to communicate with the ENTSO-E API.\n",
    "    dfs = []\n",
    "    for month_start_datetime, month_end_datetime in tqdm(month_intervals, desc=cta[\"abbrev\"]):\n",
    "        with io.capture_output() as captured_output:\n",
    "            print(f\"Scraping month: {month_start_datetime.year}-{month_start_datetime.month:02d}\")\n",
    "            dfs.append(\n",
    "                client.query_generation_per_plant(\n",
    "                    country_code,\n",
    "                    start=month_start_datetime,\n",
    "                    end=month_end_datetime,\n",
    "                    eic=cta[\"eic\"],\n",
    "                )\n",
    "            )\n",
    "    \n",
    "    # Combine the scraped monthly dataframes into one large\n",
    "    df = pd.concat(dfs, sort=True)\n",
    "    \n",
    "    # Save the combined dataframe to disk as a pickle file\n",
    "    # NOTE: the pickle file for Sweden was 19 MB, while the\n",
    "    # request cache was 335 MB.\n",
    "    df.to_pickle(dataframe_file)\n",
    "    \n",
    "    # Make sure we don't leave this file open\n",
    "    requests_cache.uninstall_cache()\n",
    "    \n",
    "    # return the dataframe\n",
    "    return df"
   ]
  },
  {
   "cell_type": "code",
   "execution_count": 6,
   "metadata": {},
   "outputs": [],
   "source": [
    "import sys\n",
    "\n",
    "def valid_cta(cta):\n",
    "    api_data_start = pd.Timestamp(year=2015, month=1, day=1, tz='Europe/Brussels')\n",
    "    api_data_end   = pd.Timestamp(year=2015, month=1, day=2, tz='Europe/Brussels')\n",
    "\n",
    "    try:\n",
    "        with io.capture_output() as captured_output:\n",
    "            EntsoePandasClient(\n",
    "                api_key=os.environ[\"API_TOKEN\"],\n",
    "                session=None,\n",
    "                retry_count=3,\n",
    "                retry_delay=0,\n",
    "                proxies=None,\n",
    "            ).query_generation_per_plant(\n",
    "                country_code=cta[\"country\"],\n",
    "                start=api_data_start,\n",
    "                end=api_data_end,\n",
    "                eic=cta[\"eic\"],\n",
    "            )\n",
    "    except:\n",
    "        e = sys.exc_info()[0]\n",
    "        display(e)\n",
    "        return False\n",
    "    else:\n",
    "        return True"
   ]
  },
  {
   "cell_type": "code",
   "execution_count": 7,
   "metadata": {},
   "outputs": [],
   "source": [
    "country_names = {\n",
    "    \"AL\": \"Albania\",\n",
    "    \"AT\": \"Austria\",\n",
    "    \"BA\": \"Bosnia and Herz.\",\n",
    "    \"BE\": \"Belgium\",\n",
    "    \"BG\": \"Bulgaria\",\n",
    "    \"BY\": \"Belarus\",\n",
    "    \"CH\": \"Switzerland\",\n",
    "    \"CY\": \"Cyprus\",\n",
    "    \"CZ\": \"Czech Republic\",\n",
    "    \"DE\": \"Germany\",\n",
    "    \"DK\": \"Denmark\",\n",
    "    \"EE\": \"Estonia\",\n",
    "    \"ES\": \"Spain\",\n",
    "    \"FI\": \"Finland\",\n",
    "    \"FR\": \"France\",\n",
    "    \"GE\": \"Georgia\",\n",
    "    \"GR\": \"Greece\",\n",
    "    \"HR\": \"Croatia\",\n",
    "    \"HU\": \"Hungary\",\n",
    "    \"IE\": \"Ireland\",\n",
    "    \"IT\": \"Italy\",\n",
    "    \"LT\": \"Lithuania\",\n",
    "    \"LU\": \"Luxembourg\",\n",
    "    \"LV\": \"Latvia\",\n",
    "    \"MD\": \"Moldova\",\n",
    "    \"ME\": \"Montenegro\",\n",
    "    \"MK\": \"North Macedonia\",\n",
    "    \"MT\": \"Malta\",\n",
    "    \"NL\": \"Netherlands\",\n",
    "    \"NO\": \"Norway\",\n",
    "    \"PL\": \"Poland\",\n",
    "    \"PT\": \"Portugal\",\n",
    "    \"RO\": \"Romania\",\n",
    "    \"RS\": \"Serbia\",\n",
    "    \"RU\": \"Russia\",\n",
    "    \"SE\": \"Sweden\",\n",
    "    \"SI\": \"Slovenia\",\n",
    "    \"SK\": \"Slovakia\",\n",
    "    \"TR\": \"Turkey\",\n",
    "    \"UA\": \"Ukraine\",\n",
    "    \"UK\": \"United Kingdom\",\n",
    "}"
   ]
  },
  {
   "cell_type": "code",
   "execution_count": 8,
   "metadata": {},
   "outputs": [
    {
     "data": {
      "application/vnd.jupyter.widget-view+json": {
       "model_id": "71f4d9906b7d47c5887550fc5b8b07b1",
       "version_major": 2,
       "version_minor": 0
      },
      "text/plain": [
       "HBox(children=(IntProgress(value=0, description='Countries', max=35, style=ProgressStyle(description_width='in…"
      ]
     },
     "metadata": {},
     "output_type": "display_data"
    },
    {
     "data": {
      "application/vnd.jupyter.widget-view+json": {
       "model_id": "1ad1983b9cbc4ff8afcfaea0418b3254",
       "version_major": 2,
       "version_minor": 0
      },
      "text/plain": [
       "HBox(children=(IntProgress(value=1, bar_style='info', description='AL', max=1, style=ProgressStyle(description…"
      ]
     },
     "metadata": {},
     "output_type": "display_data"
    },
    {
     "data": {
      "application/vnd.jupyter.widget-view+json": {
       "model_id": "3b1b45dc0ab245beabc3d85772efb3d6",
       "version_major": 2,
       "version_minor": 0
      },
      "text/plain": [
       "HBox(children=(IntProgress(value=1, bar_style='info', description='AT', max=1, style=ProgressStyle(description…"
      ]
     },
     "metadata": {},
     "output_type": "display_data"
    },
    {
     "data": {
      "application/vnd.jupyter.widget-view+json": {
       "model_id": "dab1976a712d473e92dd9e9e05f84e21",
       "version_major": 2,
       "version_minor": 0
      },
      "text/plain": [
       "HBox(children=(IntProgress(value=1, bar_style='info', description='BA', max=1, style=ProgressStyle(description…"
      ]
     },
     "metadata": {},
     "output_type": "display_data"
    },
    {
     "data": {
      "application/vnd.jupyter.widget-view+json": {
       "model_id": "f91a96a1b9624bccb0385c7e0766b51d",
       "version_major": 2,
       "version_minor": 0
      },
      "text/plain": [
       "HBox(children=(IntProgress(value=1, bar_style='info', description='BE', max=1, style=ProgressStyle(description…"
      ]
     },
     "metadata": {},
     "output_type": "display_data"
    },
    {
     "data": {
      "application/vnd.jupyter.widget-view+json": {
       "model_id": "81b20099037f4e4bb8a3277a5549c3ad",
       "version_major": 2,
       "version_minor": 0
      },
      "text/plain": [
       "HBox(children=(IntProgress(value=1, bar_style='info', description='BG', max=1, style=ProgressStyle(description…"
      ]
     },
     "metadata": {},
     "output_type": "display_data"
    },
    {
     "data": {
      "application/vnd.jupyter.widget-view+json": {
       "model_id": "540e7f183821406e842a43b864ca7618",
       "version_major": 2,
       "version_minor": 0
      },
      "text/plain": [
       "HBox(children=(IntProgress(value=1, bar_style='info', description='CH', max=1, style=ProgressStyle(description…"
      ]
     },
     "metadata": {},
     "output_type": "display_data"
    },
    {
     "data": {
      "application/vnd.jupyter.widget-view+json": {
       "model_id": "7a0db99b85c54ac882055a7897db619d",
       "version_major": 2,
       "version_minor": 0
      },
      "text/plain": [
       "HBox(children=(IntProgress(value=1, bar_style='info', description='CZ', max=1, style=ProgressStyle(description…"
      ]
     },
     "metadata": {},
     "output_type": "display_data"
    },
    {
     "data": {
      "application/vnd.jupyter.widget-view+json": {
       "model_id": "48b23a9cb4774e0db5e8e1fb0a7aad0a",
       "version_major": 2,
       "version_minor": 0
      },
      "text/plain": [
       "HBox(children=(IntProgress(value=1, bar_style='info', description='DE', max=1, style=ProgressStyle(description…"
      ]
     },
     "metadata": {},
     "output_type": "display_data"
    },
    {
     "data": {
      "application/vnd.jupyter.widget-view+json": {
       "model_id": "36bdaa1a11ec4502bd3058ea3226da8b",
       "version_major": 2,
       "version_minor": 0
      },
      "text/plain": [
       "HBox(children=(IntProgress(value=1, bar_style='info', description='DE', max=1, style=ProgressStyle(description…"
      ]
     },
     "metadata": {},
     "output_type": "display_data"
    },
    {
     "data": {
      "text/plain": [
       "requests.exceptions.HTTPError"
      ]
     },
     "metadata": {},
     "output_type": "display_data"
    },
    {
     "data": {
      "application/vnd.jupyter.widget-view+json": {
       "model_id": "677c6c42b31f4af7b55dc3b30be764d5",
       "version_major": 2,
       "version_minor": 0
      },
      "text/plain": [
       "HBox(children=(IntProgress(value=0, description='DE', max=1, style=ProgressStyle(description_width='initial'))…"
      ]
     },
     "metadata": {},
     "output_type": "display_data"
    },
    {
     "data": {
      "application/vnd.jupyter.widget-view+json": {
       "model_id": "459d18efdc3541c5a9a400d28f5a84e4",
       "version_major": 2,
       "version_minor": 0
      },
      "text/plain": [
       "HBox(children=(IntProgress(value=1, bar_style='info', description='DE', max=1, style=ProgressStyle(description…"
      ]
     },
     "metadata": {},
     "output_type": "display_data"
    },
    {
     "data": {
      "text/plain": [
       "requests.exceptions.HTTPError"
      ]
     },
     "metadata": {},
     "output_type": "display_data"
    },
    {
     "data": {
      "application/vnd.jupyter.widget-view+json": {
       "model_id": "35e504a435c344aaa5bdbfcdf8104bef",
       "version_major": 2,
       "version_minor": 0
      },
      "text/plain": [
       "HBox(children=(IntProgress(value=0, description='DK', max=1, style=ProgressStyle(description_width='initial'))…"
      ]
     },
     "metadata": {},
     "output_type": "display_data"
    },
    {
     "data": {
      "text/plain": [
       "requests.exceptions.HTTPError"
      ]
     },
     "metadata": {},
     "output_type": "display_data"
    },
    {
     "data": {
      "application/vnd.jupyter.widget-view+json": {
       "model_id": "6db6b90d35d8418f969f606460d81985",
       "version_major": 2,
       "version_minor": 0
      },
      "text/plain": [
       "HBox(children=(IntProgress(value=0, description='DK', max=1, style=ProgressStyle(description_width='initial'))…"
      ]
     },
     "metadata": {},
     "output_type": "display_data"
    },
    {
     "data": {
      "text/plain": [
       "requests.exceptions.HTTPError"
      ]
     },
     "metadata": {},
     "output_type": "display_data"
    },
    {
     "data": {
      "application/vnd.jupyter.widget-view+json": {
       "model_id": "eb75d81dae384897b478210a411f3325",
       "version_major": 2,
       "version_minor": 0
      },
      "text/plain": [
       "HBox(children=(IntProgress(value=0, description='DK', max=1, style=ProgressStyle(description_width='initial'))…"
      ]
     },
     "metadata": {},
     "output_type": "display_data"
    },
    {
     "data": {
      "application/vnd.jupyter.widget-view+json": {
       "model_id": "1b4128f6ab654dbdb346227237d8a51b",
       "version_major": 2,
       "version_minor": 0
      },
      "text/plain": [
       "HBox(children=(IntProgress(value=1, bar_style='info', description='EE', max=1, style=ProgressStyle(description…"
      ]
     },
     "metadata": {},
     "output_type": "display_data"
    },
    {
     "data": {
      "text/plain": [
       "requests.exceptions.HTTPError"
      ]
     },
     "metadata": {},
     "output_type": "display_data"
    },
    {
     "data": {
      "application/vnd.jupyter.widget-view+json": {
       "model_id": "dbfa5795059e447bbd1390ef31533870",
       "version_major": 2,
       "version_minor": 0
      },
      "text/plain": [
       "HBox(children=(IntProgress(value=0, description='ES', max=1, style=ProgressStyle(description_width='initial'))…"
      ]
     },
     "metadata": {},
     "output_type": "display_data"
    },
    {
     "data": {
      "application/vnd.jupyter.widget-view+json": {
       "model_id": "8b873b5484c64a46badd2a7203a3eeac",
       "version_major": 2,
       "version_minor": 0
      },
      "text/plain": [
       "HBox(children=(IntProgress(value=1, bar_style='info', description='FI', max=1, style=ProgressStyle(description…"
      ]
     },
     "metadata": {},
     "output_type": "display_data"
    },
    {
     "data": {
      "application/vnd.jupyter.widget-view+json": {
       "model_id": "351707445f7941c4903ae7b7c306c989",
       "version_major": 2,
       "version_minor": 0
      },
      "text/plain": [
       "HBox(children=(IntProgress(value=1, bar_style='info', description='FR', max=1, style=ProgressStyle(description…"
      ]
     },
     "metadata": {},
     "output_type": "display_data"
    },
    {
     "data": {
      "application/vnd.jupyter.widget-view+json": {
       "model_id": "591b52194d284c4192d6e86c00ea35ed",
       "version_major": 2,
       "version_minor": 0
      },
      "text/plain": [
       "HBox(children=(IntProgress(value=1, bar_style='info', description='GR', max=1, style=ProgressStyle(description…"
      ]
     },
     "metadata": {},
     "output_type": "display_data"
    },
    {
     "data": {
      "text/plain": [
       "requests.exceptions.HTTPError"
      ]
     },
     "metadata": {},
     "output_type": "display_data"
    },
    {
     "data": {
      "application/vnd.jupyter.widget-view+json": {
       "model_id": "1033c988c54944c4aee2ca4a69b3f4ae",
       "version_major": 2,
       "version_minor": 0
      },
      "text/plain": [
       "HBox(children=(IntProgress(value=0, description='HR', max=1, style=ProgressStyle(description_width='initial'))…"
      ]
     },
     "metadata": {},
     "output_type": "display_data"
    },
    {
     "data": {
      "application/vnd.jupyter.widget-view+json": {
       "model_id": "f1403ada731e4b15ba5425107713c0a2",
       "version_major": 2,
       "version_minor": 0
      },
      "text/plain": [
       "HBox(children=(IntProgress(value=1, bar_style='info', description='HU', max=1, style=ProgressStyle(description…"
      ]
     },
     "metadata": {},
     "output_type": "display_data"
    },
    {
     "data": {
      "application/vnd.jupyter.widget-view+json": {
       "model_id": "430fee55e8744f62a2e40b9062313e2d",
       "version_major": 2,
       "version_minor": 0
      },
      "text/plain": [
       "HBox(children=(IntProgress(value=1, bar_style='info', description='IE', max=1, style=ProgressStyle(description…"
      ]
     },
     "metadata": {},
     "output_type": "display_data"
    },
    {
     "data": {
      "application/vnd.jupyter.widget-view+json": {
       "model_id": "1880dc0809be455d8101c6007784c7f1",
       "version_major": 2,
       "version_minor": 0
      },
      "text/plain": [
       "HBox(children=(IntProgress(value=1, bar_style='info', description='IT', max=1, style=ProgressStyle(description…"
      ]
     },
     "metadata": {},
     "output_type": "display_data"
    },
    {
     "data": {
      "application/vnd.jupyter.widget-view+json": {
       "model_id": "5a447b00fad9440e8c9d4b0c8c272963",
       "version_major": 2,
       "version_minor": 0
      },
      "text/plain": [
       "HBox(children=(IntProgress(value=1, bar_style='info', description='LT', max=1, style=ProgressStyle(description…"
      ]
     },
     "metadata": {},
     "output_type": "display_data"
    },
    {
     "data": {
      "text/plain": [
       "requests.exceptions.HTTPError"
      ]
     },
     "metadata": {},
     "output_type": "display_data"
    },
    {
     "data": {
      "application/vnd.jupyter.widget-view+json": {
       "model_id": "09dc61c5b01d4f638a826eaf03605b10",
       "version_major": 2,
       "version_minor": 0
      },
      "text/plain": [
       "HBox(children=(IntProgress(value=0, description='LU', max=1, style=ProgressStyle(description_width='initial'))…"
      ]
     },
     "metadata": {},
     "output_type": "display_data"
    },
    {
     "data": {
      "application/vnd.jupyter.widget-view+json": {
       "model_id": "df0fe47ab37c4e61b101b92c01ef34bb",
       "version_major": 2,
       "version_minor": 0
      },
      "text/plain": [
       "HBox(children=(IntProgress(value=1, bar_style='info', description='LV', max=1, style=ProgressStyle(description…"
      ]
     },
     "metadata": {},
     "output_type": "display_data"
    },
    {
     "data": {
      "text/plain": [
       "requests.exceptions.HTTPError"
      ]
     },
     "metadata": {},
     "output_type": "display_data"
    },
    {
     "data": {
      "application/vnd.jupyter.widget-view+json": {
       "model_id": "593ead606d224227bf237f844aadfcbe",
       "version_major": 2,
       "version_minor": 0
      },
      "text/plain": [
       "HBox(children=(IntProgress(value=0, description='ME', max=1, style=ProgressStyle(description_width='initial'))…"
      ]
     },
     "metadata": {},
     "output_type": "display_data"
    },
    {
     "data": {
      "application/vnd.jupyter.widget-view+json": {
       "model_id": "bf1b9af8adab41e2b12d9f5f3013382b",
       "version_major": 2,
       "version_minor": 0
      },
      "text/plain": [
       "HBox(children=(IntProgress(value=1, bar_style='info', description='MK', max=1, style=ProgressStyle(description…"
      ]
     },
     "metadata": {},
     "output_type": "display_data"
    },
    {
     "data": {
      "text/plain": [
       "requests.exceptions.HTTPError"
      ]
     },
     "metadata": {},
     "output_type": "display_data"
    },
    {
     "data": {
      "application/vnd.jupyter.widget-view+json": {
       "model_id": "add3ecaf4ef644f9bde54fc7a828f72e",
       "version_major": 2,
       "version_minor": 0
      },
      "text/plain": [
       "HBox(children=(IntProgress(value=0, description='MT', max=1, style=ProgressStyle(description_width='initial'))…"
      ]
     },
     "metadata": {},
     "output_type": "display_data"
    },
    {
     "data": {
      "application/vnd.jupyter.widget-view+json": {
       "model_id": "5964db3c7c1e423daba3119d3ed657b2",
       "version_major": 2,
       "version_minor": 0
      },
      "text/plain": [
       "HBox(children=(IntProgress(value=1, bar_style='info', description='NL', max=1, style=ProgressStyle(description…"
      ]
     },
     "metadata": {},
     "output_type": "display_data"
    },
    {
     "data": {
      "application/vnd.jupyter.widget-view+json": {
       "model_id": "aca8ebb780394d659976d6b67fa7cc28",
       "version_major": 2,
       "version_minor": 0
      },
      "text/plain": [
       "HBox(children=(IntProgress(value=1, bar_style='info', description='PL', max=1, style=ProgressStyle(description…"
      ]
     },
     "metadata": {},
     "output_type": "display_data"
    },
    {
     "data": {
      "text/plain": [
       "requests.exceptions.HTTPError"
      ]
     },
     "metadata": {},
     "output_type": "display_data"
    },
    {
     "data": {
      "application/vnd.jupyter.widget-view+json": {
       "model_id": "e3c6de2690dd4f80bab3d2196e184968",
       "version_major": 2,
       "version_minor": 0
      },
      "text/plain": [
       "HBox(children=(IntProgress(value=0, description='PT', max=1, style=ProgressStyle(description_width='initial'))…"
      ]
     },
     "metadata": {},
     "output_type": "display_data"
    },
    {
     "data": {
      "application/vnd.jupyter.widget-view+json": {
       "model_id": "a070ca838c6540298c9332df7767fcfe",
       "version_major": 2,
       "version_minor": 0
      },
      "text/plain": [
       "HBox(children=(IntProgress(value=1, bar_style='info', description='RO', max=1, style=ProgressStyle(description…"
      ]
     },
     "metadata": {},
     "output_type": "display_data"
    },
    {
     "data": {
      "application/vnd.jupyter.widget-view+json": {
       "model_id": "e57cc0fec70540cb97003c3daa7ec613",
       "version_major": 2,
       "version_minor": 0
      },
      "text/plain": [
       "HBox(children=(IntProgress(value=1, bar_style='info', description='RS', max=1, style=ProgressStyle(description…"
      ]
     },
     "metadata": {},
     "output_type": "display_data"
    },
    {
     "data": {
      "application/vnd.jupyter.widget-view+json": {
       "model_id": "d27b0110404746b793b85ea90a780aef",
       "version_major": 2,
       "version_minor": 0
      },
      "text/plain": [
       "HBox(children=(IntProgress(value=1, bar_style='info', description='SE', max=1, style=ProgressStyle(description…"
      ]
     },
     "metadata": {},
     "output_type": "display_data"
    },
    {
     "data": {
      "application/vnd.jupyter.widget-view+json": {
       "model_id": "de0658a4b4244f49997374d98d119fd2",
       "version_major": 2,
       "version_minor": 0
      },
      "text/plain": [
       "HBox(children=(IntProgress(value=1, bar_style='info', description='SI', max=1, style=ProgressStyle(description…"
      ]
     },
     "metadata": {},
     "output_type": "display_data"
    },
    {
     "data": {
      "application/vnd.jupyter.widget-view+json": {
       "model_id": "4b3cfa80d9a54313901032cd5847f471",
       "version_major": 2,
       "version_minor": 0
      },
      "text/plain": [
       "HBox(children=(IntProgress(value=1, bar_style='info', description='SK', max=1, style=ProgressStyle(description…"
      ]
     },
     "metadata": {},
     "output_type": "display_data"
    },
    {
     "data": {
      "text/plain": [
       "requests.exceptions.HTTPError"
      ]
     },
     "metadata": {},
     "output_type": "display_data"
    },
    {
     "data": {
      "application/vnd.jupyter.widget-view+json": {
       "model_id": "896eab490284421fb19201eab5729096",
       "version_major": 2,
       "version_minor": 0
      },
      "text/plain": [
       "HBox(children=(IntProgress(value=0, description='TR', max=1, style=ProgressStyle(description_width='initial'))…"
      ]
     },
     "metadata": {},
     "output_type": "display_data"
    },
    {
     "data": {
      "text/plain": [
       "requests.exceptions.HTTPError"
      ]
     },
     "metadata": {},
     "output_type": "display_data"
    },
    {
     "data": {
      "application/vnd.jupyter.widget-view+json": {
       "model_id": "5c7e672fce624b778481b538b9619aea",
       "version_major": 2,
       "version_minor": 0
      },
      "text/plain": [
       "HBox(children=(IntProgress(value=0, description='UA', max=1, style=ProgressStyle(description_width='initial'))…"
      ]
     },
     "metadata": {},
     "output_type": "display_data"
    },
    {
     "data": {
      "text/plain": [
       "requests.exceptions.HTTPError"
      ]
     },
     "metadata": {},
     "output_type": "display_data"
    },
    {
     "data": {
      "application/vnd.jupyter.widget-view+json": {
       "model_id": "49e402fc8d0d4982b0969b9df6304d03",
       "version_major": 2,
       "version_minor": 0
      },
      "text/plain": [
       "HBox(children=(IntProgress(value=0, description='UA', max=1, style=ProgressStyle(description_width='initial'))…"
      ]
     },
     "metadata": {},
     "output_type": "display_data"
    },
    {
     "data": {
      "text/plain": [
       "requests.exceptions.HTTPError"
      ]
     },
     "metadata": {},
     "output_type": "display_data"
    },
    {
     "data": {
      "application/vnd.jupyter.widget-view+json": {
       "model_id": "9a93883901084a06b2a7a2d428af6b61",
       "version_major": 2,
       "version_minor": 0
      },
      "text/plain": [
       "HBox(children=(IntProgress(value=0, description='UA', max=1, style=ProgressStyle(description_width='initial'))…"
      ]
     },
     "metadata": {},
     "output_type": "display_data"
    },
    {
     "data": {
      "text/plain": [
       "requests.exceptions.HTTPError"
      ]
     },
     "metadata": {},
     "output_type": "display_data"
    },
    {
     "data": {
      "application/vnd.jupyter.widget-view+json": {
       "model_id": "a9d6648fba93495c852add9c037a8f3b",
       "version_major": 2,
       "version_minor": 0
      },
      "text/plain": [
       "HBox(children=(IntProgress(value=0, description='UA', max=1, style=ProgressStyle(description_width='initial'))…"
      ]
     },
     "metadata": {},
     "output_type": "display_data"
    },
    {
     "data": {
      "text/plain": [
       "KeyError"
      ]
     },
     "metadata": {},
     "output_type": "display_data"
    },
    {
     "data": {
      "application/vnd.jupyter.widget-view+json": {
       "model_id": "b487bae8ed43413394aec6b2658b2434",
       "version_major": 2,
       "version_minor": 0
      },
      "text/plain": [
       "HBox(children=(IntProgress(value=0, description='UK', max=1, style=ProgressStyle(description_width='initial'))…"
      ]
     },
     "metadata": {},
     "output_type": "display_data"
    },
    {
     "data": {
      "text/plain": [
       "KeyError"
      ]
     },
     "metadata": {},
     "output_type": "display_data"
    },
    {
     "data": {
      "application/vnd.jupyter.widget-view+json": {
       "model_id": "408da36254964fbbb4907e3ef6fd0b12",
       "version_major": 2,
       "version_minor": 0
      },
      "text/plain": [
       "HBox(children=(IntProgress(value=0, description='UK', max=1, style=ProgressStyle(description_width='initial'))…"
      ]
     },
     "metadata": {},
     "output_type": "display_data"
    },
    {
     "name": "stdout",
     "output_type": "stream",
     "text": [
      "\n"
     ]
    }
   ],
   "source": [
    "# NOTE: the ENTSO-E API doesn't have data before 2015\n",
    "# NOTE: I think the API is pretty much hardcoded for use with the\n",
    "# Europe/Brussels timezone. There could be daylight savings time\n",
    "# matters that can mess with an hour of data or two during the year.\n",
    "api_data_start = pd.Timestamp(year=2015, month=1,  day=1,  tz='Europe/Brussels')\n",
    "api_data_end   = pd.Timestamp(year=2019, month=11, day=15, tz='Europe/Brussels')\n",
    "\n",
    "# Known potential failures:\n",
    "# - ChunkedEncodingError\n",
    "# The solution strategy to avoid aborts while this is running\n",
    "# unmonitored is to just let errors happen and keep trying again\n",
    "# where the next attempt will be quicker due to caches.\n",
    "\n",
    "import pickle\n",
    "with open(\"country_control_areas.pickle\", 'rb') as f:\n",
    "    country_control_areas = pickle.load(f)\n",
    "country_control_areas.pop(\"NO\")\n",
    "\n",
    "# Let's wait with norway, they behave weird and takes forever to finish.\n",
    "while True:\n",
    "    try:\n",
    "        # Iterate over the 34 countries and their CTAs respectively, and get their data\n",
    "        for country_code in tqdm(country_control_areas, desc=\"Countries\"):\n",
    "            control_areas = country_control_areas[country_code]\n",
    "            for cta in control_areas:\n",
    "                if valid_cta(cta):\n",
    "                    scrape_control_area_data(country_code, cta, api_data_start, api_data_end)\n",
    "                else:\n",
    "                    tqdm(desc=country_code, total=1, bar_format=\"Invalid domain\");\n",
    "    except Exception as e:\n",
    "        continue\n",
    "    else:\n",
    "        break"
   ]
  },
  {
   "cell_type": "code",
   "execution_count": null,
   "metadata": {},
   "outputs": [],
   "source": []
  }
 ],
 "metadata": {
  "kernelspec": {
   "display_name": "Python 3",
   "language": "python",
   "name": "python3"
  },
  "language_info": {
   "codemirror_mode": {
    "name": "ipython",
    "version": 3
   },
   "file_extension": ".py",
   "mimetype": "text/x-python",
   "name": "python",
   "nbconvert_exporter": "python",
   "pygments_lexer": "ipython3",
   "version": "3.7.3"
  }
 },
 "nbformat": 4,
 "nbformat_minor": 4
}
