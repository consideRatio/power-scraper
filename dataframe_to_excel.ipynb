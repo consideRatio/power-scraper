{
 "cells": [
  {
   "cell_type": "markdown",
   "metadata": {},
   "source": [
    "# Convert dataframes to excel files\n",
    "This will never replace any files, but it will download dataframes if they are missing locally, and convert them into excel files if they are missing locally.\n",
    "\n",
    "1. Inspect what dataframe files are available in the gs://entsoe bucket\n",
    "2. For each dataframe file online:\n",
    "   - consider if a dataframe file is available locally\n",
    "   - consider if an excel file is available locally\n",
    "   - if needed, optionally download the dataframe and then generate an excel file"
   ]
  },
  {
   "cell_type": "code",
   "execution_count": 10,
   "metadata": {},
   "outputs": [],
   "source": [
    "import os\n",
    "import pickle\n",
    "\n",
    "import pandas as pd\n",
    "\n",
    "bucket_name = \"gs://entsoe/\"\n",
    "dataframe_files_dir = \"dataframe_files\"\n",
    "excel_files_dir = \"excel_files\""
   ]
  },
  {
   "cell_type": "code",
   "execution_count": null,
   "metadata": {},
   "outputs": [],
   "source": [
    "!mkdir -p {dataframe_files_dir}\n",
    "!mkdir -p {excel_files_dir}"
   ]
  },
  {
   "cell_type": "code",
   "execution_count": 16,
   "metadata": {},
   "outputs": [],
   "source": [
    "def convert_dataframe_to_excel(dataframe_file_path):\n",
    "    \"\"\"\n",
    "    Accept local files and files in a remote bucket.\n",
    "    \"\"\"    \n",
    "    if dataframe_file_path.startswith(bucket_name):\n",
    "        dataframe_file_path = dataframe_file_path.replace(bucket_name, \"\")\n",
    "    excel_file_name = os.path.basename(dataframe_file_path).replace(\".pickle\", \".xlsx\")\n",
    "    excel_file_path = os.path.join(excel_files_dir, excel_file_name)\n",
    "    \n",
    "    if not os.path.isfile(dataframe_file_path):\n",
    "        # NOTE: If this exit with an error code, execution will still continue,\n",
    "        #       but fail later due to a missing file.\n",
    "        !gsutil cp {bucket_name + dataframe_file_path} {dataframe_file_path}\n",
    "    if os.path.isfile(excel_file_path):\n",
    "        return\n",
    "    \n",
    "    with open(dataframe_file_path, 'rb') as f:\n",
    "        se_df = pickle.load(f)\n",
    "\n",
    "    with pd.ExcelWriter(excel_file_path) as excel_writer:\n",
    "        se_df.tz_convert(tz=None).to_excel(excel_writer)\n",
    "    \n",
    "    print(f\"Converted {dataframe_file_path} to {excel_file_path}.\")\n",
    "    return excel_file_path"
   ]
  },
  {
   "cell_type": "code",
   "execution_count": 17,
   "metadata": {},
   "outputs": [
    {
     "name": "stdout",
     "output_type": "stream",
     "text": [
      "Converted dataframe_files/fr.pickle to excel_files/fr.xlsx.\n",
      "Converted dataframe_files/ch.pickle to excel_files/ch.xlsx.\n",
      "Converted dataframe_files/pl.pickle to excel_files/pl.xlsx.\n",
      "Converted dataframe_files/me.pickle to excel_files/me.xlsx.\n",
      "Converted dataframe_files/rs.pickle to excel_files/rs.xlsx.\n",
      "Converted dataframe_files/ee.pickle to excel_files/ee.xlsx.\n",
      "Converted dataframe_files/hu.pickle to excel_files/hu.xlsx.\n",
      "Converted dataframe_files/se.pickle to excel_files/se.xlsx.\n",
      "Converted dataframe_files/gb.pickle to excel_files/gb.xlsx.\n",
      "Converted dataframe_files/fi.pickle to excel_files/fi.xlsx.\n",
      "Converted dataframe_files/sk.pickle to excel_files/sk.xlsx.\n",
      "Converted dataframe_files/lt.pickle to excel_files/lt.xlsx.\n",
      "Converted dataframe_files/gr.pickle to excel_files/gr.xlsx.\n",
      "Converted dataframe_files/al.pickle to excel_files/al.xlsx.\n",
      "Converted dataframe_files/de-transnetbw.pickle to excel_files/de-transnetbw.xlsx.\n",
      "Converted dataframe_files/de-50hertz.pickle to excel_files/de-50hertz.xlsx.\n",
      "Converted dataframe_files/mk.pickle to excel_files/mk.xlsx.\n",
      "Converted dataframe_files/pt.pickle to excel_files/pt.xlsx.\n",
      "Converted dataframe_files/at.pickle to excel_files/at.xlsx.\n",
      "Converted dataframe_files/ro.pickle to excel_files/ro.xlsx.\n",
      "Converted dataframe_files/nl.pickle to excel_files/nl.xlsx.\n",
      "Converted dataframe_files/cz.pickle to excel_files/cz.xlsx.\n",
      "Converted dataframe_files/de-tennet_de.pickle to excel_files/de-tennet_de.xlsx.\n",
      "Converted dataframe_files/ie.pickle to excel_files/ie.xlsx.\n",
      "Converted dataframe_files/bg.pickle to excel_files/bg.xlsx.\n",
      "Converted dataframe_files/si.pickle to excel_files/si.xlsx.\n",
      "Converted dataframe_files/gb-ni.pickle to excel_files/gb-ni.xlsx.\n",
      "Converted dataframe_files/be.pickle to excel_files/be.xlsx.\n",
      "Converted dataframe_files/lv.pickle to excel_files/lv.xlsx.\n",
      "Converted dataframe_files/ba.pickle to excel_files/ba.xlsx.\n",
      "Converted dataframe_files/es.pickle to excel_files/es.xlsx.\n",
      "Converted dataframe_files/it.pickle to excel_files/it.xlsx.\n"
     ]
    }
   ],
   "source": [
    "for filename in os.listdir(dataframe_files_dir):\n",
    "    if filename.endswith(\".pickle\"):\n",
    "        excel_file = convert_dataframe_to_excel(os.path.join(dataframe_files_dir, filename))"
   ]
  },
  {
   "cell_type": "code",
   "execution_count": 18,
   "metadata": {},
   "outputs": [
    {
     "name": "stdout",
     "output_type": "stream",
     "text": [
      "\n",
      "WARNING: gsutil rsync uses hashes when modification time is not available at\n",
      "both the source and destination. Your crcmod installation isn't using the\n",
      "module's C extension, so checksumming will run very slowly. If this is your\n",
      "first rsync since updating gsutil, this rsync can take significantly longer than\n",
      "usual. For help installing the extension, please see \"gsutil help crcmod\".\n",
      "\n",
      "Building synchronization state...\n",
      "Starting synchronization...\n",
      "Copying file://excel_files/al.xlsx [Content-Type=application/vnd.openxmlformats-officedocument.spreadsheetml.sheet]...\n",
      "Copying file://excel_files/at.xlsx [Content-Type=application/vnd.openxmlformats-officedocument.spreadsheetml.sheet]...\n",
      "Copying file://excel_files/ba.xlsx [Content-Type=application/vnd.openxmlformats-officedocument.spreadsheetml.sheet]...\n",
      "Copying file://excel_files/be.xlsx [Content-Type=application/vnd.openxmlformats-officedocument.spreadsheetml.sheet]...\n",
      "\\ [4 files][ 12.4 MiB/ 12.4 MiB]                                                \n",
      "==> NOTE: You are performing a sequence of gsutil operations that may\n",
      "run significantly faster if you instead use gsutil -m rsync ... Please\n",
      "see the -m section under \"gsutil help options\" for further information\n",
      "about when gsutil -m can be advantageous.\n",
      "\n",
      "Copying file://excel_files/bg.xlsx [Content-Type=application/vnd.openxmlformats-officedocument.spreadsheetml.sheet]...\n",
      "Copying file://excel_files/ch.xlsx [Content-Type=application/vnd.openxmlformats-officedocument.spreadsheetml.sheet]...\n",
      "Copying file://excel_files/cz.xlsx [Content-Type=application/vnd.openxmlformats-officedocument.spreadsheetml.sheet]...\n",
      "Copying file://excel_files/de-50hertz.xlsx [Content-Type=application/vnd.openxmlformats-officedocument.spreadsheetml.sheet]...\n",
      "Copying file://excel_files/de-tennet_de.xlsx [Content-Type=application/vnd.openxmlformats-officedocument.spreadsheetml.sheet]...\n",
      "Copying file://excel_files/de-transnetbw.xlsx [Content-Type=application/vnd.openxmlformats-officedocument.spreadsheetml.sheet]...\n",
      "Copying file://excel_files/ee.xlsx [Content-Type=application/vnd.openxmlformats-officedocument.spreadsheetml.sheet]...\n",
      "Copying file://excel_files/es.xlsx [Content-Type=application/vnd.openxmlformats-officedocument.spreadsheetml.sheet]...\n",
      "Copying file://excel_files/fi.xlsx [Content-Type=application/vnd.openxmlformats-officedocument.spreadsheetml.sheet]...\n",
      "Copying file://excel_files/fr.xlsx [Content-Type=application/vnd.openxmlformats-officedocument.spreadsheetml.sheet]...\n",
      "Copying file://excel_files/gb-ni.xlsx [Content-Type=application/vnd.openxmlformats-officedocument.spreadsheetml.sheet]...\n",
      "Copying file://excel_files/gb.xlsx [Content-Type=application/vnd.openxmlformats-officedocument.spreadsheetml.sheet]...\n",
      "Copying file://excel_files/gr.xlsx [Content-Type=application/vnd.openxmlformats-officedocument.spreadsheetml.sheet]...\n",
      "Copying file://excel_files/hu.xlsx [Content-Type=application/vnd.openxmlformats-officedocument.spreadsheetml.sheet]...\n",
      "Copying file://excel_files/ie.xlsx [Content-Type=application/vnd.openxmlformats-officedocument.spreadsheetml.sheet]...\n",
      "Copying file://excel_files/it.xlsx [Content-Type=application/vnd.openxmlformats-officedocument.spreadsheetml.sheet]...\n",
      "Copying file://excel_files/lt.xlsx [Content-Type=application/vnd.openxmlformats-officedocument.spreadsheetml.sheet]...\n",
      "Copying file://excel_files/lv.xlsx [Content-Type=application/vnd.openxmlformats-officedocument.spreadsheetml.sheet]...\n",
      "Copying file://excel_files/me.xlsx [Content-Type=application/vnd.openxmlformats-officedocument.spreadsheetml.sheet]...\n",
      "Copying file://excel_files/mk.xlsx [Content-Type=application/vnd.openxmlformats-officedocument.spreadsheetml.sheet]...\n",
      "Copying file://excel_files/nl.xlsx [Content-Type=application/vnd.openxmlformats-officedocument.spreadsheetml.sheet]...\n",
      "Copying file://excel_files/pl.xlsx [Content-Type=application/vnd.openxmlformats-officedocument.spreadsheetml.sheet]...\n",
      "Copying file://excel_files/pt.xlsx [Content-Type=application/vnd.openxmlformats-officedocument.spreadsheetml.sheet]...\n",
      "Copying file://excel_files/ro.xlsx [Content-Type=application/vnd.openxmlformats-officedocument.spreadsheetml.sheet]...\n",
      "Copying file://excel_files/rs.xlsx [Content-Type=application/vnd.openxmlformats-officedocument.spreadsheetml.sheet]...\n",
      "Copying file://excel_files/se.xlsx [Content-Type=application/vnd.openxmlformats-officedocument.spreadsheetml.sheet]...\n",
      "Copying file://excel_files/si.xlsx [Content-Type=application/vnd.openxmlformats-officedocument.spreadsheetml.sheet]...\n",
      "Copying file://excel_files/sk.xlsx [Content-Type=application/vnd.openxmlformats-officedocument.spreadsheetml.sheet]...\n",
      "- [32 files][251.2 MiB/251.2 MiB]    3.1 MiB/s                                  \n",
      "==> NOTE: You are performing a sequence of gsutil operations that may\n",
      "run significantly faster if you instead use gsutil -m rsync ... Please\n",
      "see the -m section under \"gsutil help options\" for further information\n",
      "about when gsutil -m can be advantageous.\n",
      "\n",
      "\n",
      "Operation completed over 32 objects/251.2 MiB.                                   \n"
     ]
    }
   ],
   "source": [
    "# sync local files to remote bucket\n",
    "!gsutil rsync {excel_files_dir} {bucket_name + excel_files_dir}"
   ]
  },
  {
   "cell_type": "code",
   "execution_count": null,
   "metadata": {},
   "outputs": [],
   "source": []
  }
 ],
 "metadata": {
  "kernelspec": {
   "display_name": "Python 3",
   "language": "python",
   "name": "python3"
  },
  "language_info": {
   "codemirror_mode": {
    "name": "ipython",
    "version": 3
   },
   "file_extension": ".py",
   "mimetype": "text/x-python",
   "name": "python",
   "nbconvert_exporter": "python",
   "pygments_lexer": "ipython3",
   "version": "3.7.3"
  }
 },
 "nbformat": 4,
 "nbformat_minor": 4
}
